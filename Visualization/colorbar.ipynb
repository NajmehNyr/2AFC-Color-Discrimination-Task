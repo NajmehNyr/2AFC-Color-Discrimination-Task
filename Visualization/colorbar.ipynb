{
  "nbformat": 4,
  "nbformat_minor": 0,
  "metadata": {
    "colab": {
      "provenance": [],
      "authorship_tag": "ABX9TyNsd7LLW/jneA1wsod9azxW",
      "include_colab_link": true
    },
    "kernelspec": {
      "name": "python3",
      "display_name": "Python 3"
    },
    "language_info": {
      "name": "python"
    }
  },
  "cells": [
    {
      "cell_type": "markdown",
      "metadata": {
        "id": "view-in-github",
        "colab_type": "text"
      },
      "source": [
        "<a href=\"https://colab.research.google.com/github/NajmehNyr/2AFC-Color-Discrimination-Task/blob/main/colorbar.ipynb\" target=\"_parent\"><img src=\"https://colab.research.google.com/assets/colab-badge.svg\" alt=\"Open In Colab\"/></a>"
      ]
    },
    {
      "cell_type": "code",
      "metadata": {
        "id": "c37a069e"
      },
      "source": [
        "from matplotlib.colors import LinearSegmentedColormap, Normalize\n",
        "import matplotlib as mpl\n",
        "import matplotlib.pyplot as plt\n",
        "import numpy as np"
      ],
      "execution_count": null,
      "outputs": []
    },
    {
      "cell_type": "code",
      "source": [
        "# PsychopyRGB to RGB255\n",
        "def PsyTo255(rgbpsy):\n",
        "    return tuple(int((i + 1) * 127.5) for i in rgbpsy)\n",
        "\n",
        "# PsychopyRGB to RGB1\n",
        "def PsyTo1(rgbpsy):\n",
        "    return tuple((i + 1) / 2 for i in rgbpsy)"
      ],
      "metadata": {
        "id": "lmGlyTOt7WiR"
      },
      "execution_count": null,
      "outputs": []
    },
    {
      "cell_type": "code",
      "source": [
        "# Define colors in psychopy RBB system\n",
        "blue = (0, 0, 1); yellow = (1, 1, 0)\n",
        "absBlue = (-1, -1, 1); absYellow = (1, 1, -1)\n",
        "\n",
        "# colors for in between the main colors\n",
        "between = np.linspace(0, 1, 256)\n",
        "\n",
        "# Create the base colormap\n",
        "preCmap = LinearSegmentedColormap.from_list(\"preCmap\", [PsyTo1(yellow), PsyTo1(blue)])\n",
        "\n",
        "# Combine the colors with the absolute colors of the extends\n",
        "colors = [PsyTo1(absYellow)] + list(preCmap(between)) + [PsyTo1(absBlue)]\n",
        "cmap = LinearSegmentedColormap.from_list(\"cmap\", colors)\n",
        "\n",
        "#normalize the whole cmap\n",
        "norm = Normalize(vmin=5, vmax=10)"
      ],
      "metadata": {
        "id": "I7IHXNX37fch"
      },
      "execution_count": null,
      "outputs": []
    },
    {
      "cell_type": "code",
      "source": [
        "# Plot data\n",
        "fig, ax = plt.subplots(figsize=(6, 1), layout='constrained')\n",
        "\n",
        "cbar = fig.colorbar(mpl.cm.ScalarMappable(norm=norm, cmap=cmap),\n",
        "             cax=ax, orientation='horizontal', extend='both', label=' \\n')\n",
        "\n",
        "# Define the tick locations at the ends and the main range\n",
        "tickLoc = [5, 10]; cbar.set_ticks(tickLoc)\n",
        "\n",
        "# Define the tick labels with RGB values\n",
        "tickLab = [str(PsyTo255(yellow)), str(PsyTo255(blue))]\n",
        "cbar.set_ticklabels(tickLab, fontsize=8)\n",
        "\n",
        "# Add a vertical line in the middle of the colorbar\n",
        "middle = (5+10) / 2\n",
        "ax.axvline(middle, color='black', linestyle='-', linewidth=0.5);"
      ],
      "metadata": {
        "colab": {
          "base_uri": "https://localhost:8080/",
          "height": 128
        },
        "id": "yGV0vE0h7474",
        "outputId": "f69d2ba6-9842-46e1-c988-6692bbd20f68"
      },
      "execution_count": null,
      "outputs": [
        {
          "output_type": "display_data",
          "data": {
            "text/plain": [
              "<Figure size 600x100 with 1 Axes>"
            ],
            "image/png": "[encoded data removed]"
          },
          "metadata": {}
        }
      ]
    }
  ]
}
